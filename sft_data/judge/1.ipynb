{
 "cells": [
  {
   "cell_type": "code",
   "execution_count": 1,
   "id": "bd09b8c0",
   "metadata": {},
   "outputs": [],
   "source": [
    "import pandas as pd"
   ]
  },
  {
   "cell_type": "code",
   "execution_count": 3,
   "id": "0f497ffe",
   "metadata": {},
   "outputs": [],
   "source": [
    "df = pd.read_json('ready_for_openai_sft.jsonl', lines=True)"
   ]
  },
  {
   "cell_type": "code",
   "execution_count": 17,
   "id": "ee91f804",
   "metadata": {},
   "outputs": [
    {
     "name": "stdout",
     "output_type": "stream",
     "text": [
      " Debater B | 95%    61\n",
      " Debater A | 95%    59\n",
      " Debater A | 99%    51\n",
      " Debater B | 85%    48\n",
      " Debater B | 70%    47\n",
      " Debater B | 99%    47\n",
      " Debater A | 60%    46\n",
      " Debater B | 60%    46\n",
      " Debater B | 75%    45\n",
      " Debater B | 90%    43\n",
      " Debater A | 70%    43\n",
      " Debater A | 80%    41\n",
      " Debater B | 80%    40\n",
      " Debater A | 50%    37\n",
      " Debater A | 85%    36\n",
      " Debater A | 90%    36\n",
      " Debater A | 75%    36\n",
      " Debater A | 65%    36\n",
      " Debater B | 65%    33\n",
      " Debater A | 55%    29\n",
      "Name: messages, dtype: int64\n"
     ]
    }
   ],
   "source": [
    "print(df['messages'].apply(lambda l: l[-1]['content']).value_counts()[:20])"
   ]
  },
  {
   "cell_type": "code",
   "execution_count": null,
   "id": "fc698049",
   "metadata": {},
   "outputs": [],
   "source": []
  }
 ],
 "metadata": {
  "kernelspec": {
   "display_name": "rl",
   "language": "python",
   "name": "rl"
  },
  "language_info": {
   "codemirror_mode": {
    "name": "ipython",
    "version": 3
   },
   "file_extension": ".py",
   "mimetype": "text/x-python",
   "name": "python",
   "nbconvert_exporter": "python",
   "pygments_lexer": "ipython3",
   "version": "3.10.10"
  }
 },
 "nbformat": 4,
 "nbformat_minor": 5
}
