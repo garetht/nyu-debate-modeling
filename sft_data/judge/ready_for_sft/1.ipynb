{
 "cells": [
  {
   "cell_type": "code",
   "execution_count": 16,
   "id": "c4132573",
   "metadata": {},
   "outputs": [],
   "source": [
    "import json\n",
    "import pandas as pd"
   ]
  },
  {
   "cell_type": "code",
   "execution_count": 17,
   "id": "0cf7bf14",
   "metadata": {},
   "outputs": [],
   "source": [
    "df = pd.read_json('judge_sft_balanced.jsonl', lines=True)"
   ]
  },
  {
   "cell_type": "code",
   "execution_count": 18,
   "id": "a712d2a6",
   "metadata": {},
   "outputs": [
    {
     "data": {
      "text/plain": [
       "messages    594\n",
       "dtype: int64"
      ]
     },
     "execution_count": 18,
     "metadata": {},
     "output_type": "execute_result"
    }
   ],
   "source": [
    "df[df['messages'].apply(lambda d: d[1]['content'].split(' ')[0] == 'Consultant')].count()"
   ]
  },
  {
   "cell_type": "code",
   "execution_count": 19,
   "id": "b073e913",
   "metadata": {},
   "outputs": [],
   "source": [
    "df = df[df['messages'].apply(lambda d: d[1]['content'].split(' ')[0] == 'Debater')]"
   ]
  },
  {
   "cell_type": "code",
   "execution_count": 20,
   "id": "c1f81cce",
   "metadata": {},
   "outputs": [
    {
     "data": {
      "text/plain": [
       "messages    348\n",
       "dtype: int64"
      ]
     },
     "execution_count": 20,
     "metadata": {},
     "output_type": "execute_result"
    }
   ],
   "source": [
    "df[df['messages'].apply(lambda d: d[1]['content'].split(' ')[1] == 'A')].count() "
   ]
  },
  {
   "cell_type": "code",
   "execution_count": 21,
   "id": "87e64239",
   "metadata": {},
   "outputs": [
    {
     "data": {
      "text/plain": [
       "messages    348\n",
       "dtype: int64"
      ]
     },
     "execution_count": 21,
     "metadata": {},
     "output_type": "execute_result"
    }
   ],
   "source": [
    "df[df['messages'].apply(lambda d: d[1]['content'].split(' ')[1] == 'B')].count() "
   ]
  },
  {
   "cell_type": "code",
   "execution_count": null,
   "id": "50548a37",
   "metadata": {},
   "outputs": [],
   "source": []
  }
 ],
 "metadata": {
  "kernelspec": {
   "display_name": "rl",
   "language": "python",
   "name": "python3"
  },
  "language_info": {
   "codemirror_mode": {
    "name": "ipython",
    "version": 3
   },
   "file_extension": ".py",
   "mimetype": "text/x-python",
   "name": "python",
   "nbconvert_exporter": "python",
   "pygments_lexer": "ipython3",
   "version": "3.10.10"
  }
 },
 "nbformat": 4,
 "nbformat_minor": 5
}
