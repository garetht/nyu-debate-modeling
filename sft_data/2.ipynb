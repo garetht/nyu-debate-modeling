{
 "cells": [
  {
   "cell_type": "code",
   "execution_count": 1,
   "id": "b2648517",
   "metadata": {},
   "outputs": [],
   "source": [
    "import pandas as pd\n",
    "import json"
   ]
  },
  {
   "cell_type": "code",
   "execution_count": 2,
   "id": "433a9825",
   "metadata": {},
   "outputs": [],
   "source": [
    "df = pd.read_csv('training_dataset_from_hf_old.csv')"
   ]
  },
  {
   "cell_type": "code",
   "execution_count": 3,
   "id": "2728c0ea",
   "metadata": {},
   "outputs": [
    {
     "data": {
      "text/html": [
       "<div>\n",
       "<style scoped>\n",
       "    .dataframe tbody tr th:only-of-type {\n",
       "        vertical-align: middle;\n",
       "    }\n",
       "\n",
       "    .dataframe tbody tr th {\n",
       "        vertical-align: top;\n",
       "    }\n",
       "\n",
       "    .dataframe thead th {\n",
       "        text-align: right;\n",
       "    }\n",
       "</style>\n",
       "<table border=\"1\" class=\"dataframe\">\n",
       "  <thead>\n",
       "    <tr style=\"text-align: right;\">\n",
       "      <th></th>\n",
       "      <th>Unnamed: 0</th>\n",
       "      <th>instruction</th>\n",
       "      <th>output</th>\n",
       "    </tr>\n",
       "  </thead>\n",
       "  <tbody>\n",
       "    <tr>\n",
       "      <th>0</th>\n",
       "      <td>0</td>\n",
       "      <td>&lt;|begin_of_text|&gt;&lt;|start_header_id|&gt;system&lt;|en...</td>\n",
       "      <td>its definitely lighthearted in the beginning: ...</td>\n",
       "    </tr>\n",
       "    <tr>\n",
       "      <th>1</th>\n",
       "      <td>1</td>\n",
       "      <td>&lt;|begin_of_text|&gt;&lt;|start_header_id|&gt;system&lt;|en...</td>\n",
       "      <td>Story is about Eddie a big science nerd. His d...</td>\n",
       "    </tr>\n",
       "    <tr>\n",
       "      <th>2</th>\n",
       "      <td>2</td>\n",
       "      <td>&lt;|begin_of_text|&gt;&lt;|start_header_id|&gt;system&lt;|en...</td>\n",
       "      <td>Your question Judge about what makes sympathet...</td>\n",
       "    </tr>\n",
       "    <tr>\n",
       "      <th>3</th>\n",
       "      <td>3</td>\n",
       "      <td>&lt;|begin_of_text|&gt;&lt;|start_header_id|&gt;system&lt;|en...</td>\n",
       "      <td>I think Judge, the most important aspect is wh...</td>\n",
       "    </tr>\n",
       "    <tr>\n",
       "      <th>4</th>\n",
       "      <td>4</td>\n",
       "      <td>&lt;|begin_of_text|&gt;&lt;|start_header_id|&gt;system&lt;|en...</td>\n",
       "      <td>idk what the distinction between lighthearted ...</td>\n",
       "    </tr>\n",
       "    <tr>\n",
       "      <th>...</th>\n",
       "      <td>...</td>\n",
       "      <td>...</td>\n",
       "      <td>...</td>\n",
       "    </tr>\n",
       "    <tr>\n",
       "      <th>1771</th>\n",
       "      <td>1771</td>\n",
       "      <td>&lt;|begin_of_text|&gt;&lt;|start_header_id|&gt;system&lt;|en...</td>\n",
       "      <td>As of 2020, the five countries with the most U...</td>\n",
       "    </tr>\n",
       "    <tr>\n",
       "      <th>1772</th>\n",
       "      <td>1772</td>\n",
       "      <td>&lt;|begin_of_text|&gt;&lt;|start_header_id|&gt;system&lt;|en...</td>\n",
       "      <td>Creamy Tomato Soup Recipe\\n\\nIngredients:\\n\\n-...</td>\n",
       "    </tr>\n",
       "    <tr>\n",
       "      <th>1773</th>\n",
       "      <td>1773</td>\n",
       "      <td>&lt;|begin_of_text|&gt;&lt;|start_header_id|&gt;system&lt;|en...</td>\n",
       "      <td>The United States operates under a mixed marke...</td>\n",
       "    </tr>\n",
       "    <tr>\n",
       "      <th>1774</th>\n",
       "      <td>1774</td>\n",
       "      <td>&lt;|begin_of_text|&gt;&lt;|start_header_id|&gt;system&lt;|en...</td>\n",
       "      <td>To build a bridge between two islands, several...</td>\n",
       "    </tr>\n",
       "    <tr>\n",
       "      <th>1775</th>\n",
       "      <td>1775</td>\n",
       "      <td>&lt;|begin_of_text|&gt;&lt;|start_header_id|&gt;system&lt;|en...</td>\n",
       "      <td>| Rank | Name | Net Worth (USD) | Source of We...</td>\n",
       "    </tr>\n",
       "  </tbody>\n",
       "</table>\n",
       "<p>1776 rows × 3 columns</p>\n",
       "</div>"
      ],
      "text/plain": [
       "      Unnamed: 0                                        instruction  \\\n",
       "0              0  <|begin_of_text|><|start_header_id|>system<|en...   \n",
       "1              1  <|begin_of_text|><|start_header_id|>system<|en...   \n",
       "2              2  <|begin_of_text|><|start_header_id|>system<|en...   \n",
       "3              3  <|begin_of_text|><|start_header_id|>system<|en...   \n",
       "4              4  <|begin_of_text|><|start_header_id|>system<|en...   \n",
       "...          ...                                                ...   \n",
       "1771        1771  <|begin_of_text|><|start_header_id|>system<|en...   \n",
       "1772        1772  <|begin_of_text|><|start_header_id|>system<|en...   \n",
       "1773        1773  <|begin_of_text|><|start_header_id|>system<|en...   \n",
       "1774        1774  <|begin_of_text|><|start_header_id|>system<|en...   \n",
       "1775        1775  <|begin_of_text|><|start_header_id|>system<|en...   \n",
       "\n",
       "                                                 output  \n",
       "0     its definitely lighthearted in the beginning: ...  \n",
       "1     Story is about Eddie a big science nerd. His d...  \n",
       "2     Your question Judge about what makes sympathet...  \n",
       "3     I think Judge, the most important aspect is wh...  \n",
       "4     idk what the distinction between lighthearted ...  \n",
       "...                                                 ...  \n",
       "1771  As of 2020, the five countries with the most U...  \n",
       "1772  Creamy Tomato Soup Recipe\\n\\nIngredients:\\n\\n-...  \n",
       "1773  The United States operates under a mixed marke...  \n",
       "1774  To build a bridge between two islands, several...  \n",
       "1775  | Rank | Name | Net Worth (USD) | Source of We...  \n",
       "\n",
       "[1776 rows x 3 columns]"
      ]
     },
     "execution_count": 3,
     "metadata": {},
     "output_type": "execute_result"
    }
   ],
   "source": [
    "df"
   ]
  },
  {
   "cell_type": "code",
   "execution_count": 3,
   "id": "e27c6564",
   "metadata": {},
   "outputs": [],
   "source": [
    "def remove_background_text(text):\n",
    "    start_phrase = \"Here is the background text that you will be referring to when debating:\"\n",
    "    end_phrase = \"Here is the topic you will be debating:\"\n",
    "    \n",
    "    # Find the positions of the start and end phrases\n",
    "    start_idx = text.find(start_phrase)\n",
    "    end_idx = text.find(end_phrase)\n",
    "    \n",
    "    # If both phrases exist and are in the correct order\n",
    "    if start_idx != -1 and end_idx != -1 and start_idx < end_idx:\n",
    "        # Keep the start phrase, remove the content in between\n",
    "        return text[:start_idx + len(start_phrase)] + \" \" + text[end_idx:]\n",
    "    \n",
    "    # If phrases not found or in wrong order, return original text\n",
    "    return text"
   ]
  },
  {
   "cell_type": "code",
   "execution_count": 4,
   "id": "2ad56951",
   "metadata": {},
   "outputs": [],
   "source": [
    "df['no_story_instruction'] = df['instruction'].apply(remove_background_text)"
   ]
  },
  {
   "cell_type": "code",
   "execution_count": 5,
   "id": "d87da407",
   "metadata": {},
   "outputs": [
    {
     "data": {
      "text/html": [
       "<div>\n",
       "<style scoped>\n",
       "    .dataframe tbody tr th:only-of-type {\n",
       "        vertical-align: middle;\n",
       "    }\n",
       "\n",
       "    .dataframe tbody tr th {\n",
       "        vertical-align: top;\n",
       "    }\n",
       "\n",
       "    .dataframe thead th {\n",
       "        text-align: right;\n",
       "    }\n",
       "</style>\n",
       "<table border=\"1\" class=\"dataframe\">\n",
       "  <thead>\n",
       "    <tr style=\"text-align: right;\">\n",
       "      <th></th>\n",
       "      <th>Unnamed: 0</th>\n",
       "      <th>instruction</th>\n",
       "      <th>output</th>\n",
       "      <th>no_story_instruction</th>\n",
       "    </tr>\n",
       "  </thead>\n",
       "  <tbody>\n",
       "  </tbody>\n",
       "</table>\n",
       "</div>"
      ],
      "text/plain": [
       "Empty DataFrame\n",
       "Columns: [Unnamed: 0, instruction, output, no_story_instruction]\n",
       "Index: []"
      ]
     },
     "execution_count": 5,
     "metadata": {},
     "output_type": "execute_result"
    }
   ],
   "source": [
    "def story_removed(s):\n",
    "    return 'Removed for public dataset release.' in s\n",
    "df[df['instruction'].apply(story_removed)]"
   ]
  },
  {
   "cell_type": "code",
   "execution_count": 23,
   "id": "8812b6af",
   "metadata": {},
   "outputs": [
    {
     "name": "stdout",
     "output_type": "stream",
     "text": [
      "<|begin_of_text|><|start_header_id|>system<|end_header_id|>\n",
      "\n",
      "The following are rules from the game of Debate.\n",
      "- There are three players: 2 debaters (Debater_A, Debater_B) and a Judge. Each debater is given an answer to argue.\n",
      "- There are a fixed number of rounds. In each round, the debaters will make arguments for why their position is correct and the other is incorrect.\n",
      "- An argument may consist of several claims, to support and explain their answer.  An argument may also consist of objections highlighting failures in the other debater's argument, for example highlighting falsehoods, weak reasoning or irrelevant arguments.\n",
      "- Eventually we reach the final round and the debate ends. The Judge then looks at the full transcript and uses this to decide which answer is correct. However, the Judge cannot see the background text -- they can only see the question.\n",
      "- The Debaters' goal is to win the debate, by persuading the Judge that their answer is correct.\n",
      "- The debate surrounds a given question that has a single correct answer.\n",
      "\n",
      "\n",
      "You are Debater_A, an intelligent AI with the goal of winning the debate. \n",
      "  - You are concise and clearly state your arguments.\n",
      "  - Every statement you make is supported by evidence and logical reasoning. \n",
      "  - Please cite the background text by wrapping direct quotes with <quote></quote> tags.<|eot_id|><|start_header_id|>user<|end_header_id|>\n",
      "\n",
      "Here is the background text that you will be referring to when debating: Here is the topic you will be debating:\n",
      "\n",
      "What best describes how the overall tone changed from the beginning of the article?\n",
      "\n",
      "Debater_B will defend the position that the answer is \"From upbeat to sympathetic.\".\n",
      "Debater_A will defend the position that the answer is \"From lighthearted to tense.\".\n",
      "\n",
      "\n",
      "You are Debater_A, an intelligent AI with the goal of winning the debate. \n",
      "- You should defend your position that the answer is \"From lighthearted to tense.\" while attacking Debater_B's position. \n",
      "\n",
      "\n",
      "Now it is your turn as Debater_A.\n",
      "- Remember to both criticize the arguments made by Debater_B and build up your own arguments.\n",
      "\n",
      "Remember that it is your job to defend the position that \"From lighthearted to tense.\" is the correct answer and that Debater_B's position is wrong.\n",
      "\n",
      "Write out your speech:<|eot_id|><|start_header_id|>assistant<|end_header_id|>\n",
      "\n",
      "\n"
     ]
    }
   ],
   "source": [
    "print(df['no_story_instruction'][0])"
   ]
  },
  {
   "cell_type": "code",
   "execution_count": null,
   "id": "abc9df59",
   "metadata": {},
   "outputs": [],
   "source": []
  },
  {
   "cell_type": "code",
   "execution_count": 13,
   "id": "4f56ddb4",
   "metadata": {},
   "outputs": [
    {
     "data": {
      "text/html": [
       "<div>\n",
       "<style scoped>\n",
       "    .dataframe tbody tr th:only-of-type {\n",
       "        vertical-align: middle;\n",
       "    }\n",
       "\n",
       "    .dataframe tbody tr th {\n",
       "        vertical-align: top;\n",
       "    }\n",
       "\n",
       "    .dataframe thead th {\n",
       "        text-align: right;\n",
       "    }\n",
       "</style>\n",
       "<table border=\"1\" class=\"dataframe\">\n",
       "  <thead>\n",
       "    <tr style=\"text-align: right;\">\n",
       "      <th></th>\n",
       "      <th>Unnamed: 0</th>\n",
       "      <th>instruction</th>\n",
       "      <th>output</th>\n",
       "      <th>no_story_instruction</th>\n",
       "    </tr>\n",
       "  </thead>\n",
       "  <tbody>\n",
       "  </tbody>\n",
       "</table>\n",
       "</div>"
      ],
      "text/plain": [
       "Empty DataFrame\n",
       "Columns: [Unnamed: 0, instruction, output, no_story_instruction]\n",
       "Index: []"
      ]
     },
     "execution_count": 13,
     "metadata": {},
     "output_type": "execute_result"
    }
   ],
   "source": [
    "df[df['no_story_instruction'].str.contains('How many other expeditions ventured to the planet without noticing the city?')]"
   ]
  },
  {
   "cell_type": "code",
   "execution_count": 10,
   "id": "f1272cf9",
   "metadata": {},
   "outputs": [
    {
     "name": "stdout",
     "output_type": "stream",
     "text": [
      "Story is about Eddie a big science nerd. His dad, atomic scientist at a college, has order of new radioisotope coming in. However, shipment was stolen in middle of the story.\n",
      "\n",
      "The entire story is through the perspective of Eddie, a kid, and the tone never gets to anything tense. He never sees the theft firsthand, everything we get told via conversations, his dad was concerned but seemed pretty chill about it. Ending is a convo between him and his friend's mom who he visits after dinner. He explains what radioisotopes are.\n",
      "\n",
      "Upbeat: <quote>He grinned into the mirror</quote><quote>Hi, Mom, \" Eddie said. \" Got ta hurry. Big day today</quote><quote>shipment of a new radioisotope today</quote><quote>The very word excited Eddie</quote>\n",
      "\n",
      "Sympathy <quote>Problems. It seemed that everyone had problems, Eddie thought</quote>\n"
     ]
    }
   ],
   "source": [
    "print(df['output'][1])"
   ]
  },
  {
   "cell_type": "code",
   "execution_count": null,
   "id": "ba317ca6",
   "metadata": {},
   "outputs": [],
   "source": []
  }
 ],
 "metadata": {
  "kernelspec": {
   "display_name": "rl",
   "language": "python",
   "name": "rl"
  },
  "language_info": {
   "codemirror_mode": {
    "name": "ipython",
    "version": 3
   },
   "file_extension": ".py",
   "mimetype": "text/x-python",
   "name": "python",
   "nbconvert_exporter": "python",
   "pygments_lexer": "ipython3",
   "version": "3.10.10"
  }
 },
 "nbformat": 4,
 "nbformat_minor": 5
}
