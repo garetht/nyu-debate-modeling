{
 "cells": [
  {
   "cell_type": "code",
   "execution_count": 1,
   "id": "e97e9b77",
   "metadata": {},
   "outputs": [],
   "source": [
    "import json\n",
    "import pandas as pd"
   ]
  },
  {
   "cell_type": "code",
   "execution_count": 2,
   "id": "0b2bd914",
   "metadata": {},
   "outputs": [],
   "source": [
    "df = pd.read_json('debater_combined.jsonl', lines=True)"
   ]
  },
  {
   "cell_type": "code",
   "execution_count": 7,
   "id": "178b29b0",
   "metadata": {},
   "outputs": [
    {
     "data": {
      "text/plain": [
       "['Ambition',\n",
       " 'Pied Piper of Mars',\n",
       " 'Dust Unto Dust',\n",
       " 'The Man Who Was Six',\n",
       " 'Atom Mystery [Young Atom Detective]',\n",
       " 'The Star-Sent Knaves',\n",
       " 'How to Make Friends',\n",
       " 'Image of Splendor',\n",
       " 'Survival Type',\n",
       " 'Stalemate in Space',\n",
       " 'Lost in Translation',\n",
       " 'A Pail of Air',\n",
       " 'Call Him Nemesis',\n",
       " 'Coming of the Gods',\n",
       " 'The Happy Castaway',\n",
       " 'Planet of Dread',\n",
       " 'The Giants Return',\n",
       " 'The Long Remembered Thunder',\n",
       " 'Doctor Universe',\n",
       " \"Jupiter's Joke\",\n",
       " 'In the Garden',\n",
       " 'Mightiest Qorn',\n",
       " 'The Great Nebraska Sea',\n",
       " 'The Five Hells of Orion',\n",
       " 'The Monster Maker',\n",
       " 'The Absurdity of Family Love',\n",
       " 'Jaywalker',\n",
       " 'Jinx Ship to the Rescue',\n",
       " 'The Desert and the Stars',\n",
       " 'Jamieson',\n",
       " 'Mr. Meek Plays Polo',\n",
       " 'Rx',\n",
       " 'The Princess and the Physicist',\n",
       " 'Silence is—Deadly',\n",
       " 'The Air of Castor Oil',\n",
       " 'Volpla',\n",
       " 'Dangerous Quarry',\n",
       " 'Out of the Iron Womb!',\n",
       " 'Cosmic Yo-Yo',\n",
       " 'The Soul Eaters',\n",
       " 'Quest of Thig',\n",
       " 'The Spicy Sound of Success',\n",
       " 'Muck Man',\n",
       " 'The Starbusters',\n",
       " 'Break a Leg',\n",
       " 'Stranger From Space',\n",
       " 'Monopoly',\n",
       " 'Peggy Finds the Theatre',\n",
       " '\"Phone Me in Central Park\"',\n",
       " 'Doorway to Kal-Jmar',\n",
       " 'Thralls of the Endless Night',\n",
       " 'The Cool War',\n",
       " 'Retief of the Red-Tape Mountain',\n",
       " 'End as a Hero',\n",
       " 'Manners and Customs of the Thrid',\n",
       " 'The Reluctant Heroes',\n",
       " \"Tolliver's Orbit\",\n",
       " 'A Planet Named Joe',\n",
       " 'Viewpoint',\n",
       " 'The Fire and the Sword',\n",
       " 'The Blue Behemoth',\n",
       " 'Bodyguard',\n",
       " 'Slingshot',\n",
       " 'Cultural Exchange',\n",
       " 'Hunt the Hunter',\n",
       " 'Cinderella Story',\n",
       " 'The Winning of the Moon',\n",
       " 'February Strawberries',\n",
       " 'The Madman From Earth',\n",
       " 'My Lady Greensleeves',\n",
       " 'The Frozen Planet',\n",
       " 'Conditionally Human',\n",
       " 'The Sense of Wonder',\n",
       " 'Double-Cross',\n",
       " 'The Dwindling Years',\n",
       " 'Double Trouble',\n",
       " 'The Repairman',\n",
       " 'Big Ancestor',\n",
       " 'The Ignoble Savages',\n",
       " \"Solomon's Orbit\",\n",
       " \"The Street That Wasn't There\",\n",
       " 'The Man Outside',\n",
       " 'I Am a Nucleus',\n",
       " 'The Secret Martians',\n",
       " 'The Jupiter Weapon',\n",
       " 'A Coffin for Jacob',\n",
       " 'The Avenger',\n",
       " 'Spacemen Die at Home',\n",
       " 'A Fall of Glass']"
      ]
     },
     "execution_count": 7,
     "metadata": {},
     "output_type": "execute_result"
    }
   ],
   "source": [
    "df.storyTitle.unique().tolist()"
   ]
  },
  {
   "cell_type": "code",
   "execution_count": null,
   "id": "b1fd6f22",
   "metadata": {},
   "outputs": [],
   "source": []
  }
 ],
 "metadata": {
  "kernelspec": {
   "display_name": "rl",
   "language": "python",
   "name": "python3"
  },
  "language_info": {
   "codemirror_mode": {
    "name": "ipython",
    "version": 3
   },
   "file_extension": ".py",
   "mimetype": "text/x-python",
   "name": "python",
   "nbconvert_exporter": "python",
   "pygments_lexer": "ipython3",
   "version": "3.10.10"
  }
 },
 "nbformat": 4,
 "nbformat_minor": 5
}
